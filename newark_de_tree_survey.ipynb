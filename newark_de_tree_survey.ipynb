{
 "cells": [
  {
   "cell_type": "code",
   "execution_count": 178,
   "metadata": {},
   "outputs": [],
   "source": [
    "import pandas as pd\n",
    "import numpy as np"
   ]
  },
  {
   "cell_type": "markdown",
   "metadata": {},
   "source": [
    "# Read a comma-separated values (csv) file into DataFrame.\n",
    "\n",
    "The data folder contains a file named \"newark_tree_data.csv\". Read this file into a dataframe.\n",
    "\n",
    "\n",
    "resources:\n",
    "* [Pandas read csv docs](https://pandas.pydata.org/pandas-docs/stable/reference/api/pandas.read_csv.html#pandas.read_csv)"
   ]
  },
  {
   "cell_type": "code",
   "execution_count": 179,
   "metadata": {},
   "outputs": [],
   "source": [
    "# Create DataFrame here.\n",
    "df = pd.read_csv('data/newark_tree_data.csv')"
   ]
  },
  {
   "cell_type": "code",
   "execution_count": 180,
   "metadata": {},
   "outputs": [
    {
     "data": {
      "text/html": [
       "<div>\n",
       "<style scoped>\n",
       "    .dataframe tbody tr th:only-of-type {\n",
       "        vertical-align: middle;\n",
       "    }\n",
       "\n",
       "    .dataframe tbody tr th {\n",
       "        vertical-align: top;\n",
       "    }\n",
       "\n",
       "    .dataframe thead th {\n",
       "        text-align: right;\n",
       "    }\n",
       "</style>\n",
       "<table border=\"1\" class=\"dataframe\">\n",
       "  <thead>\n",
       "    <tr style=\"text-align: right;\">\n",
       "      <th></th>\n",
       "      <th>ID</th>\n",
       "      <th>ON</th>\n",
       "      <th>AREA</th>\n",
       "      <th>ADDRESS</th>\n",
       "      <th>STREET</th>\n",
       "      <th>SITE</th>\n",
       "      <th>SIDE</th>\n",
       "      <th>ASSIGNED</th>\n",
       "      <th>COMMON</th>\n",
       "      <th>BOTANICAL</th>\n",
       "      <th>...</th>\n",
       "      <th>IMPROPMULC</th>\n",
       "      <th>IMPROPPRUN</th>\n",
       "      <th>NUTRIENTD</th>\n",
       "      <th>PEST</th>\n",
       "      <th>GIRDLING</th>\n",
       "      <th>STRESS</th>\n",
       "      <th>OHUTILITY</th>\n",
       "      <th>TOP_HEIGHT</th>\n",
       "      <th>CROWN_M</th>\n",
       "      <th>CROWN_DIE</th>\n",
       "    </tr>\n",
       "  </thead>\n",
       "  <tbody>\n",
       "    <tr>\n",
       "      <th>0</th>\n",
       "      <td>11.0</td>\n",
       "      <td>Elan Park</td>\n",
       "      <td>Elan Park</td>\n",
       "      <td>2</td>\n",
       "      <td>Blue Hen Rg</td>\n",
       "      <td>11.0</td>\n",
       "      <td>Front</td>\n",
       "      <td>False</td>\n",
       "      <td>arborvitae, eastern</td>\n",
       "      <td>Thuja occidentalis</td>\n",
       "      <td>...</td>\n",
       "      <td>False</td>\n",
       "      <td>False</td>\n",
       "      <td>False</td>\n",
       "      <td>False</td>\n",
       "      <td>False</td>\n",
       "      <td>False</td>\n",
       "      <td>No</td>\n",
       "      <td>40</td>\n",
       "      <td>0-5%</td>\n",
       "      <td>0-5%</td>\n",
       "    </tr>\n",
       "    <tr>\n",
       "      <th>1</th>\n",
       "      <td>12.0</td>\n",
       "      <td>Elan Park</td>\n",
       "      <td>Elan Park</td>\n",
       "      <td>2</td>\n",
       "      <td>Blue Hen Rg</td>\n",
       "      <td>12.0</td>\n",
       "      <td>Front</td>\n",
       "      <td>False</td>\n",
       "      <td>arborvitae, eastern</td>\n",
       "      <td>Thuja occidentalis</td>\n",
       "      <td>...</td>\n",
       "      <td>False</td>\n",
       "      <td>False</td>\n",
       "      <td>False</td>\n",
       "      <td>False</td>\n",
       "      <td>False</td>\n",
       "      <td>False</td>\n",
       "      <td>No</td>\n",
       "      <td>41</td>\n",
       "      <td>0-5%</td>\n",
       "      <td>0-5%</td>\n",
       "    </tr>\n",
       "    <tr>\n",
       "      <th>2</th>\n",
       "      <td>13.0</td>\n",
       "      <td>Elan Park</td>\n",
       "      <td>Elan Park</td>\n",
       "      <td>2</td>\n",
       "      <td>Blue Hen Rg</td>\n",
       "      <td>13.0</td>\n",
       "      <td>Front</td>\n",
       "      <td>False</td>\n",
       "      <td>pine, eastern white</td>\n",
       "      <td>Pinus strobus</td>\n",
       "      <td>...</td>\n",
       "      <td>False</td>\n",
       "      <td>False</td>\n",
       "      <td>False</td>\n",
       "      <td>False</td>\n",
       "      <td>True</td>\n",
       "      <td>False</td>\n",
       "      <td>No</td>\n",
       "      <td>54</td>\n",
       "      <td>0-5%</td>\n",
       "      <td>6-10%</td>\n",
       "    </tr>\n",
       "    <tr>\n",
       "      <th>3</th>\n",
       "      <td>14.0</td>\n",
       "      <td>Elan Park</td>\n",
       "      <td>Elan Park</td>\n",
       "      <td>2</td>\n",
       "      <td>Blue Hen Rg</td>\n",
       "      <td>14.0</td>\n",
       "      <td>Front</td>\n",
       "      <td>False</td>\n",
       "      <td>whitecedar, Atlantic</td>\n",
       "      <td>Chamaecyparis thyoides</td>\n",
       "      <td>...</td>\n",
       "      <td>False</td>\n",
       "      <td>False</td>\n",
       "      <td>False</td>\n",
       "      <td>False</td>\n",
       "      <td>True</td>\n",
       "      <td>False</td>\n",
       "      <td>No</td>\n",
       "      <td>57</td>\n",
       "      <td>11-15%</td>\n",
       "      <td>26-30%</td>\n",
       "    </tr>\n",
       "    <tr>\n",
       "      <th>4</th>\n",
       "      <td>15.0</td>\n",
       "      <td>Elan Park</td>\n",
       "      <td>Elan Park</td>\n",
       "      <td>2</td>\n",
       "      <td>Blue Hen Rg</td>\n",
       "      <td>15.0</td>\n",
       "      <td>Front</td>\n",
       "      <td>False</td>\n",
       "      <td>whitecedar, Atlantic</td>\n",
       "      <td>Chamaecyparis thyoides</td>\n",
       "      <td>...</td>\n",
       "      <td>False</td>\n",
       "      <td>False</td>\n",
       "      <td>False</td>\n",
       "      <td>False</td>\n",
       "      <td>True</td>\n",
       "      <td>False</td>\n",
       "      <td>No</td>\n",
       "      <td>55</td>\n",
       "      <td>11-15%</td>\n",
       "      <td>21-25%</td>\n",
       "    </tr>\n",
       "  </tbody>\n",
       "</table>\n",
       "<p>5 rows × 54 columns</p>\n",
       "</div>"
      ],
      "text/plain": [
       "     ID         ON       AREA  ADDRESS       STREET  SITE   SIDE  ASSIGNED  \\\n",
       "0  11.0  Elan Park  Elan Park        2  Blue Hen Rg  11.0  Front     False   \n",
       "1  12.0  Elan Park  Elan Park        2  Blue Hen Rg  12.0  Front     False   \n",
       "2  13.0  Elan Park  Elan Park        2  Blue Hen Rg  13.0  Front     False   \n",
       "3  14.0  Elan Park  Elan Park        2  Blue Hen Rg  14.0  Front     False   \n",
       "4  15.0  Elan Park  Elan Park        2  Blue Hen Rg  15.0  Front     False   \n",
       "\n",
       "                 COMMON               BOTANICAL  ... IMPROPMULC  IMPROPPRUN  \\\n",
       "0   arborvitae, eastern      Thuja occidentalis  ...      False       False   \n",
       "1   arborvitae, eastern      Thuja occidentalis  ...      False       False   \n",
       "2   pine, eastern white           Pinus strobus  ...      False       False   \n",
       "3  whitecedar, Atlantic  Chamaecyparis thyoides  ...      False       False   \n",
       "4  whitecedar, Atlantic  Chamaecyparis thyoides  ...      False       False   \n",
       "\n",
       "  NUTRIENTD   PEST GIRDLING STRESS  OHUTILITY  TOP_HEIGHT CROWN_M CROWN_DIE  \n",
       "0     False  False    False  False         No          40    0-5%      0-5%  \n",
       "1     False  False    False  False         No          41    0-5%      0-5%  \n",
       "2     False  False     True  False         No          54    0-5%     6-10%  \n",
       "3     False  False     True  False         No          57  11-15%    26-30%  \n",
       "4     False  False     True  False         No          55  11-15%    21-25%  \n",
       "\n",
       "[5 rows x 54 columns]"
      ]
     },
     "execution_count": 180,
     "metadata": {},
     "output_type": "execute_result"
    }
   ],
   "source": [
    "# Display the first few rows of the DataFrame here.\n",
    "df.head()"
   ]
  },
  {
   "cell_type": "code",
   "execution_count": 181,
   "metadata": {},
   "outputs": [
    {
     "data": {
      "text/plain": [
       "(4193, 54)"
      ]
     },
     "execution_count": 181,
     "metadata": {},
     "output_type": "execute_result"
    }
   ],
   "source": [
    "# How many columns does the DataFrame contain?\n",
    "#54\n",
    "df.shape"
   ]
  },
  {
   "cell_type": "code",
   "execution_count": 182,
   "metadata": {},
   "outputs": [
    {
     "data": {
      "text/plain": [
       "Index(['ID', 'ON', 'AREA', 'ADDRESS', 'STREET', 'SITE', 'SIDE', 'ASSIGNED',\n",
       "       'COMMON', 'BOTANICAL', 'CULTIVAR', 'DBH', 'REMOVAL', 'STEMS', 'COND',\n",
       "       'MAINTPRIM', 'OBSERVE', 'INSPECT', 'LOCATION', 'NOTES', 'DATE', 'TIME',\n",
       "       'STAFF', 'XCOORD', 'YCOORD', 'FAILURE', 'LIKELIHOOD', 'TARGET',\n",
       "       'CONSEQ', 'RISK', 'UNIQUEID', 'EDITTIME', 'SPREAD', 'HEIGHT',\n",
       "       'CLEARANCE', 'DECAYCL', 'DECAYT', 'DECAYRF', 'DAMC', 'DAMT', 'DAMRF',\n",
       "       'CAVITYCL', 'CAVITYT', 'CAVITYRF', 'IMPROPMULC', 'IMPROPPRUN',\n",
       "       'NUTRIENTD', 'PEST', 'GIRDLING', 'STRESS', 'OHUTILITY', 'TOP_HEIGHT',\n",
       "       'CROWN_M', 'CROWN_DIE'],\n",
       "      dtype='object')"
      ]
     },
     "execution_count": 182,
     "metadata": {},
     "output_type": "execute_result"
    }
   ],
   "source": [
    "# What attributes (columns) does this DataFrame contain?\n",
    "df.columns"
   ]
  },
  {
   "cell_type": "markdown",
   "metadata": {},
   "source": [
    "Upon reviewing the columns of the DataFrame, we see that there is already a column named ID that is well suited for an index column.  \n",
    "\n",
    "For the purposes of this lab, we are only going to need a few of the available attributes. The attributes we wish to keep are listed below:\n",
    "* ID\n",
    "* UNIQUEID\n",
    "* COMMON\n",
    "* BOTANICAL\n",
    "* COND\n",
    "* RISK\n",
    "* HEIGHT\n",
    "\n",
    "Let's provide the index_col and the usecols args when we invoke the read_csv method."
   ]
  },
  {
   "cell_type": "code",
   "execution_count": 183,
   "metadata": {},
   "outputs": [],
   "source": [
    "# Create the new DataFrame here.\n",
    "df = pd.read_csv('data/newark_tree_data.csv', index_col = 'ID', usecols=['ID', 'UNIQUEID', 'COMMON', 'BOTANICAL', 'COND', 'RISK', 'HEIGHT'])"
   ]
  },
  {
   "cell_type": "code",
   "execution_count": 184,
   "metadata": {},
   "outputs": [
    {
     "data": {
      "text/plain": [
       "<bound method NDFrame.head of                       COMMON                BOTANICAL       COND RISK  \\\n",
       "ID                                                                      \n",
       "11.0     arborvitae, eastern       Thuja occidentalis       Good  Low   \n",
       "12.0     arborvitae, eastern       Thuja occidentalis  Very Good  Low   \n",
       "13.0     pine, eastern white            Pinus strobus       Good  Low   \n",
       "14.0    whitecedar, Atlantic   Chamaecyparis thyoides       Fair  Low   \n",
       "15.0    whitecedar, Atlantic   Chamaecyparis thyoides       Fair  Low   \n",
       "...                      ...                      ...        ...  ...   \n",
       "4189.0   Japanese pagodatree  Styphnolobium japonicum       Good  Low   \n",
       "4190.0         oak, sawtooth       Quercus acutissima       Good  Low   \n",
       "4191.0   Japanese pagodatree  Styphnolobium japonicum       Fair  Low   \n",
       "4192.0    sycamore, American    Platanus occidentalis       Good  Low   \n",
       "4193.0            ash, white       Fraxinus americana       Fair  Low   \n",
       "\n",
       "                 UNIQUEID  HEIGHT  \n",
       "ID                                 \n",
       "11.0    LM 20150929141218      40  \n",
       "12.0    LM 20150929141418      40  \n",
       "13.0    LM 20150929141844      54  \n",
       "14.0    LM 20150929142424      56  \n",
       "15.0    LM 20150929143018      55  \n",
       "...                   ...     ...  \n",
       "4189.0  SR 20151104153437      50  \n",
       "4190.0  SR 20151104153555      55  \n",
       "4191.0  SR 20151104153647      45  \n",
       "4192.0  SR 20151104160909      80  \n",
       "4193.0  SR 20151104161140      70  \n",
       "\n",
       "[4193 rows x 6 columns]>"
      ]
     },
     "execution_count": 184,
     "metadata": {},
     "output_type": "execute_result"
    }
   ],
   "source": [
    "# Display the first few rows of the new DataFrame here.\n",
    "df.head"
   ]
  },
  {
   "cell_type": "markdown",
   "metadata": {},
   "source": [
    "The data narritive specifies that 4,193 sites were inventoried. Use the DataFrame shape attribute to verify the number of rows."
   ]
  },
  {
   "cell_type": "code",
   "execution_count": 185,
   "metadata": {},
   "outputs": [
    {
     "data": {
      "text/plain": [
       "4193"
      ]
     },
     "execution_count": 185,
     "metadata": {},
     "output_type": "execute_result"
    }
   ],
   "source": [
    "# How many rows does your DataFrame contain.\n",
    "len(df)\n"
   ]
  },
  {
   "cell_type": "markdown",
   "metadata": {},
   "source": [
    "Let's look at the distribution of data for the HEIGHT attribute."
   ]
  },
  {
   "cell_type": "code",
   "execution_count": 186,
   "metadata": {},
   "outputs": [
    {
     "data": {
      "text/plain": [
       "0"
      ]
     },
     "execution_count": 186,
     "metadata": {},
     "output_type": "execute_result"
    }
   ],
   "source": [
    "##### What is the min height?\n",
    "min(df.HEIGHT)"
   ]
  },
  {
   "cell_type": "code",
   "execution_count": 187,
   "metadata": {},
   "outputs": [
    {
     "data": {
      "text/plain": [
       "140"
      ]
     },
     "execution_count": 187,
     "metadata": {},
     "output_type": "execute_result"
    }
   ],
   "source": [
    "# What is the max height?\n",
    "max(df.HEIGHT)"
   ]
  },
  {
   "cell_type": "code",
   "execution_count": 188,
   "metadata": {},
   "outputs": [
    {
     "data": {
      "text/html": [
       "<div>\n",
       "<style scoped>\n",
       "    .dataframe tbody tr th:only-of-type {\n",
       "        vertical-align: middle;\n",
       "    }\n",
       "\n",
       "    .dataframe tbody tr th {\n",
       "        vertical-align: top;\n",
       "    }\n",
       "\n",
       "    .dataframe thead th {\n",
       "        text-align: right;\n",
       "    }\n",
       "</style>\n",
       "<table border=\"1\" class=\"dataframe\">\n",
       "  <thead>\n",
       "    <tr style=\"text-align: right;\">\n",
       "      <th></th>\n",
       "      <th>HEIGHT</th>\n",
       "    </tr>\n",
       "  </thead>\n",
       "  <tbody>\n",
       "    <tr>\n",
       "      <th>count</th>\n",
       "      <td>4193.000000</td>\n",
       "    </tr>\n",
       "    <tr>\n",
       "      <th>mean</th>\n",
       "      <td>55.311472</td>\n",
       "    </tr>\n",
       "    <tr>\n",
       "      <th>std</th>\n",
       "      <td>36.293489</td>\n",
       "    </tr>\n",
       "    <tr>\n",
       "      <th>min</th>\n",
       "      <td>0.000000</td>\n",
       "    </tr>\n",
       "    <tr>\n",
       "      <th>25%</th>\n",
       "      <td>23.000000</td>\n",
       "    </tr>\n",
       "    <tr>\n",
       "      <th>50%</th>\n",
       "      <td>50.000000</td>\n",
       "    </tr>\n",
       "    <tr>\n",
       "      <th>75%</th>\n",
       "      <td>86.000000</td>\n",
       "    </tr>\n",
       "    <tr>\n",
       "      <th>max</th>\n",
       "      <td>140.000000</td>\n",
       "    </tr>\n",
       "  </tbody>\n",
       "</table>\n",
       "</div>"
      ],
      "text/plain": [
       "            HEIGHT\n",
       "count  4193.000000\n",
       "mean     55.311472\n",
       "std      36.293489\n",
       "min       0.000000\n",
       "25%      23.000000\n",
       "50%      50.000000\n",
       "75%      86.000000\n",
       "max     140.000000"
      ]
     },
     "execution_count": 188,
     "metadata": {},
     "output_type": "execute_result"
    }
   ],
   "source": [
    "# How do we acquire count, mean, standard deviation, and distribution information from the DataFrame \n",
    "# by invoking a single method?\n",
    "df.describe()"
   ]
  },
  {
   "cell_type": "markdown",
   "metadata": {},
   "source": [
    "# Plot a histogram using the HEIGHT attribute. \n",
    "\n",
    "resources:\n",
    "* [Magic commands](https://ipython.readthedocs.io/en/stable/interactive/magics.html)\n",
    "* [Pandas Series Hist](https://pandas.pydata.org/pandas-docs/stable/reference/api/pandas.Series.plot.hist.html#pandas.Series.plot.hist)"
   ]
  },
  {
   "cell_type": "code",
   "execution_count": 189,
   "metadata": {},
   "outputs": [],
   "source": [
    "import matplotlib.pyplot"
   ]
  },
  {
   "cell_type": "code",
   "execution_count": 190,
   "metadata": {},
   "outputs": [],
   "source": [
    "# Apply magic command to display matplotlib images inline\n",
    "%matplotlib inline"
   ]
  },
  {
   "cell_type": "code",
   "execution_count": 191,
   "metadata": {},
   "outputs": [
    {
     "data": {
      "text/plain": [
       "<Axes: ylabel='Frequency'>"
      ]
     },
     "execution_count": 191,
     "metadata": {},
     "output_type": "execute_result"
    },
    {
     "data": {
      "image/png": "[encoded data removed]",
      "text/plain": [
       "<Figure size 640x480 with 1 Axes>"
      ]
     },
     "metadata": {},
     "output_type": "display_data"
    }
   ],
   "source": [
    "# Create a histogram using the HEIGHT attribute here\n",
    "df.plot.hist(bins=15)"
   ]
  },
  {
   "cell_type": "markdown",
   "metadata": {},
   "source": [
    "The data narrative specifies the following:\n",
    "\"A total of 4,193 sites were inventoried, including 4,087 trees, 100 stumps, and 6 vacant planting sites\"\n",
    "\n",
    "Earlier, we were able to validate the total number of entries in the DataFrame. Let's now dig in a bit deeper and validate the stumps and vacant planting sites."
   ]
  },
  {
   "cell_type": "code",
   "execution_count": 192,
   "metadata": {},
   "outputs": [
    {
     "data": {
      "text/plain": [
       "106"
      ]
     },
     "execution_count": 192,
     "metadata": {},
     "output_type": "execute_result"
    }
   ],
   "source": [
    "# How many entries are stumps\n",
    "# Working under the assumption that stumps have no height recorded\n",
    "len(df[df[\"HEIGHT\"]==0])"
   ]
  },
  {
   "cell_type": "code",
   "execution_count": 193,
   "metadata": {},
   "outputs": [],
   "source": [
    "# How many entries are vacant sites\n",
    "# Unsure how to determine from the data"
   ]
  },
  {
   "cell_type": "code",
   "execution_count": 194,
   "metadata": {},
   "outputs": [],
   "source": [
    "# Do these number add up?\n",
    "# 106 does equal the states amount of totalt stumps and vacant sites"
   ]
  },
  {
   "cell_type": "markdown",
   "metadata": {},
   "source": [
    "# Plot a bar graph using the COND attribute.\n",
    "\n",
    "resources:\n",
    "* [Pandas Series Bar](https://pandas.pydata.org/pandas-docs/stable/reference/api/pandas.Series.plot.bar.html#pandas.Series.plot.bar)"
   ]
  },
  {
   "cell_type": "code",
   "execution_count": 195,
   "metadata": {},
   "outputs": [
    {
     "data": {
      "text/plain": [
       "COND\n",
       "Critical       74\n",
       "Dead          218\n",
       "Excellent     163\n",
       "Fair         1598\n",
       "Good         1168\n",
       "Poor          402\n",
       "Very Good     381\n",
       "Very Poor      83\n",
       "dtype: int64"
      ]
     },
     "execution_count": 195,
     "metadata": {},
     "output_type": "execute_result"
    }
   ],
   "source": [
    "# How can we determine all of the possible values describing the condition of a tree and their associated counts?\n",
    "cond_df = df.groupby('COND').size()\n",
    "cond_df"
   ]
  },
  {
   "cell_type": "code",
   "execution_count": 196,
   "metadata": {},
   "outputs": [
    {
     "data": {
      "text/plain": [
       "COND\n",
       "Excellent     163\n",
       "Very Good     381\n",
       "Good         1168\n",
       "Fair         1598\n",
       "Poor          402\n",
       "Very Poor      83\n",
       "Critical       74\n",
       "Dead          218\n",
       "dtype: int64"
      ]
     },
     "execution_count": 196,
     "metadata": {},
     "output_type": "execute_result"
    }
   ],
   "source": [
    "# Were these already in the order you would want them to be in order for a graph to make sense? \n",
    "# If not, reorder  the Series.\n",
    "cond_df = cond_df.reindex(index = ['Excellent', 'Very Good', 'Good', 'Fair', 'Poor', 'Very Poor', 'Critical', 'Dead'])\n",
    "cond_df"
   ]
  },
  {
   "cell_type": "code",
   "execution_count": 197,
   "metadata": {},
   "outputs": [
    {
     "data": {
      "text/plain": [
       "<Axes: xlabel='COND'>"
      ]
     },
     "execution_count": 197,
     "metadata": {},
     "output_type": "execute_result"
    },
    {
     "data": {
      "image/png": "[encoded data removed]",
      "text/plain": [
       "<Figure size 640x480 with 1 Axes>"
      ]
     },
     "metadata": {},
     "output_type": "display_data"
    }
   ],
   "source": [
    "# Plot the Series here\n",
    "cond_df.plot.bar()"
   ]
  },
  {
   "cell_type": "code",
   "execution_count": 198,
   "metadata": {},
   "outputs": [
    {
     "data": {
      "text/plain": [
       "106"
      ]
     },
     "execution_count": 198,
     "metadata": {},
     "output_type": "execute_result"
    }
   ],
   "source": [
    "# How many entries have missing values for the COND attribute? Why are these values missing?\n",
    "# 106, which is the total number of vacant sites and stumps\n",
    "df['COND'].isnull().sum()"
   ]
  },
  {
   "cell_type": "markdown",
   "metadata": {},
   "source": [
    "# Plot a pie chart using the RISK attribute."
   ]
  },
  {
   "cell_type": "markdown",
   "metadata": {},
   "source": [
    "resources:\n",
    "* [Pandas Series Pie](https://pandas.pydata.org/pandas-docs/stable/reference/api/pandas.Series.plot.pie.html#pandas.Series.plot.pie)\n",
    "* [matplotlib pie chart docs](https://matplotlib.org/api/pyplot_api.html#matplotlib.pyplot.pie)"
   ]
  },
  {
   "cell_type": "code",
   "execution_count": 199,
   "metadata": {},
   "outputs": [
    {
     "data": {
      "text/plain": [
       "RISK\n",
       "High          13\n",
       "Low         3833\n",
       "Moderate     241\n",
       "dtype: int64"
      ]
     },
     "execution_count": 199,
     "metadata": {},
     "output_type": "execute_result"
    }
   ],
   "source": [
    "# How can we determine all of the possible values describing the RISK associated with each tree\n",
    "# along with the corresponding row counts?\n",
    "risk_df = df.groupby('RISK').size()\n",
    "risk_df"
   ]
  },
  {
   "cell_type": "code",
   "execution_count": 200,
   "metadata": {},
   "outputs": [],
   "source": [
    "# Create an array containing the colors green, yellow, and orange\n",
    "# When we create our pie chart, the colors should be associated with the attributes according to the specifications below:\n",
    "# Green -> Low\n",
    "# Yellow -> Moderate\n",
    "# Orange -> High\n",
    "colors = ['red', 'green', 'yellow']"
   ]
  },
  {
   "cell_type": "code",
   "execution_count": 201,
   "metadata": {},
   "outputs": [
    {
     "data": {
      "text/plain": [
       "<Axes: >"
      ]
     },
     "execution_count": 201,
     "metadata": {},
     "output_type": "execute_result"
    },
    {
     "data": {
      "image/png": "[encoded data removed]",
      "text/plain": [
       "<Figure size 640x480 with 1 Axes>"
      ]
     },
     "metadata": {},
     "output_type": "display_data"
    }
   ],
   "source": [
    "# Plot the pie chart here\n",
    "risk_df.plot.pie(y=df.index, colors=colors, autopct='%1.1f%%')"
   ]
  },
  {
   "cell_type": "code",
   "execution_count": 202,
   "metadata": {},
   "outputs": [
    {
     "data": {
      "text/plain": [
       "106"
      ]
     },
     "execution_count": 202,
     "metadata": {},
     "output_type": "execute_result"
    }
   ],
   "source": [
    "# How many entries have missing values for the RISK attribute? Why are these values missing?\n",
    "# 106, the value of stumps and vacant sites\n",
    "df['RISK'].isnull().sum()"
   ]
  },
  {
   "cell_type": "markdown",
   "metadata": {},
   "source": [
    "# Indexing"
   ]
  },
  {
   "cell_type": "code",
   "execution_count": 203,
   "metadata": {},
   "outputs": [
    {
     "data": {
      "text/plain": [
       "COMMON       arborvitae, eastern\n",
       "BOTANICAL     Thuja occidentalis\n",
       "COND                   Very Good\n",
       "RISK                         Low\n",
       "UNIQUEID       LM 20150929141418\n",
       "HEIGHT                        40\n",
       "Name: 12.0, dtype: object"
      ]
     },
     "execution_count": 203,
     "metadata": {},
     "output_type": "execute_result"
    }
   ],
   "source": [
    "# Display row by position 1\n",
    "df.iloc[1]"
   ]
  },
  {
   "cell_type": "code",
   "execution_count": 204,
   "metadata": {},
   "outputs": [],
   "source": [
    "# Display row by label 1\n",
    "# Not sure what this is asking?"
   ]
  },
  {
   "cell_type": "code",
   "execution_count": null,
   "metadata": {},
   "outputs": [],
   "source": []
  }
 ],
 "metadata": {
  "kernelspec": {
   "display_name": "Python 3 (ipykernel)",
   "language": "python",
   "name": "python3"
  },
  "language_info": {
   "codemirror_mode": {
    "name": "ipython",
    "version": 3
   },
   "file_extension": ".py",
   "mimetype": "text/x-python",
   "name": "python",
   "nbconvert_exporter": "python",
   "pygments_lexer": "ipython3",
   "version": "3.12.0"
  }
 },
 "nbformat": 4,
 "nbformat_minor": 4
}
